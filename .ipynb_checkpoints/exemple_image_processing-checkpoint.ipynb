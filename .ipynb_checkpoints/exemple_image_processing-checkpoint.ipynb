{
 "cells": [
  {
   "cell_type": "code",
   "execution_count": 9,
   "metadata": {},
   "outputs": [
    {
     "data": {
      "text/plain": [
       "((320, 240), 320, 240)"
      ]
     },
     "execution_count": 9,
     "metadata": {},
     "output_type": "execute_result"
    }
   ],
   "source": [
    "import image_processing as imp\n",
    "from imp import  *\n",
    "i=imp.images('C:/Users/mEtrOpOliS/Desktop/image_data/1fps/img10/4.JPG')\n",
    "\n",
    "\n",
    "\n",
    "\n",
    "i.Size()"
   ]
  },
  {
   "cell_type": "code",
   "execution_count": 10,
   "metadata": {},
   "outputs": [
    {
     "data": {
      "text/plain": [
       "2.4764397905759163"
      ]
     },
     "execution_count": 10,
     "metadata": {},
     "output_type": "execute_result"
    }
   ],
   "source": [
    "i.IOU([100,110,52,44],[101,130,52,44])"
   ]
  },
  {
   "cell_type": "code",
   "execution_count": 11,
   "metadata": {},
   "outputs": [
    {
     "name": "stdout",
     "output_type": "stream",
     "text": [
      "[[[115 117  88]\n",
      "  [115 117  88]\n",
      "  [115 117  88]\n",
      "  ...\n",
      "  [112 114  92]\n",
      "  [111 114  92]\n",
      "  [111 114  92]]\n",
      "\n",
      " [[115 117  88]\n",
      "  [115 117  88]\n",
      "  [115 117  88]\n",
      "  ...\n",
      "  [112 114  92]\n",
      "  [111 114  92]\n",
      "  [111 114  92]]\n",
      "\n",
      " [[115 117  88]\n",
      "  [115 117  88]\n",
      "  [115 117  88]\n",
      "  ...\n",
      "  [111 113  91]\n",
      "  [111 114  92]\n",
      "  [111 114  92]]\n",
      "\n",
      " ...\n",
      "\n",
      " [[ 78  82  47]\n",
      "  [ 79  83  48]\n",
      "  [ 80  84  49]\n",
      "  ...\n",
      "  [ 75  80  48]\n",
      "  [ 75  80  48]\n",
      "  [ 75  80  48]]\n",
      "\n",
      " [[ 78  82  47]\n",
      "  [ 79  83  48]\n",
      "  [ 80  84  49]\n",
      "  ...\n",
      "  [ 75  80  48]\n",
      "  [ 75  80  48]\n",
      "  [ 75  80  48]]\n",
      "\n",
      " [[ 78  82  47]\n",
      "  [ 79  83  48]\n",
      "  [ 80  84  49]\n",
      "  ...\n",
      "  [ 75  80  48]\n",
      "  [ 75  80  48]\n",
      "  [ 75  80  48]]]: 2.4764\n"
     ]
    }
   ],
   "source": [
    "i.display()"
   ]
  },
  {
   "cell_type": "code",
   "execution_count": 4,
   "metadata": {},
   "outputs": [],
   "source": [
    "i1=[2,3,4]\n",
    "i=tuple([2,3,4])\n"
   ]
  },
  {
   "cell_type": "code",
   "execution_count": 7,
   "metadata": {},
   "outputs": [
    {
     "name": "stdout",
     "output_type": "stream",
     "text": [
      "(2, 3, 4)\n"
     ]
    }
   ],
   "source": [
    "print(i)\n"
   ]
  },
  {
   "cell_type": "code",
   "execution_count": 8,
   "metadata": {},
   "outputs": [],
   "source": [
    "k=map(float,i)"
   ]
  },
  {
   "cell_type": "code",
   "execution_count": 9,
   "metadata": {},
   "outputs": [
    {
     "name": "stdout",
     "output_type": "stream",
     "text": [
      "<map object at 0x000002C9C55D0F60>\n"
     ]
    }
   ],
   "source": [
    "print(k)"
   ]
  },
  {
   "cell_type": "code",
   "execution_count": null,
   "metadata": {},
   "outputs": [],
   "source": []
  }
 ],
 "metadata": {
  "kernelspec": {
   "display_name": "Python 3",
   "language": "python",
   "name": "python3"
  },
  "language_info": {
   "codemirror_mode": {
    "name": "ipython",
    "version": 3
   },
   "file_extension": ".py",
   "mimetype": "text/x-python",
   "name": "python",
   "nbconvert_exporter": "python",
   "pygments_lexer": "ipython3",
   "version": "3.5.5"
  },
  "widgets": {
   "state": {},
   "version": "1.1.2"
  }
 },
 "nbformat": 4,
 "nbformat_minor": 2
}
