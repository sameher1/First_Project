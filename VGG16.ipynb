{
  "nbformat": 4,
  "nbformat_minor": 0,
  "metadata": {
    "colab": {
      "name": "VGG16.ipynb",
      "version": "0.3.2",
      "provenance": [],
      "collapsed_sections": []
    },
    "kernelspec": {
      "name": "python3",
      "display_name": "Python 3"
    }
  },
  "cells": [
    {
      "cell_type": "markdown",
      "metadata": {
        "id": "view-in-github",
        "colab_type": "text"
      },
      "source": [
        "[View in Colaboratory](https://colab.research.google.com/github/sameher1/First_Project/blob/master/VGG16.ipynb)"
      ]
    },
    {
      "metadata": {
        "id": "s9snQu6r_tKZ",
        "colab_type": "text"
      },
      "cell_type": "markdown",
      "source": [
        "# **Import modules **"
      ]
    },
    {
      "metadata": {
        "id": "dQAeHywI7p0X",
        "colab_type": "code",
        "colab": {
          "base_uri": "https://localhost:8080/",
          "height": 54
        },
        "outputId": "be5f646d-190c-4ad6-fece-3d2a0d26bb71"
      },
      "cell_type": "code",
      "source": [
        "try:\n",
        "    import ROI\n",
        "except ImportError:\n",
        "    import sys\n",
        "    sys.path.append('local_modules')\n",
        "    import ROI\n",
        "import tensorflow as tf\n",
        "from keras.models import Model\n",
        "from keras.layers import  Conv2D,Dense,Flatten,MaxPool2D,Input\n",
        "from keras.layers import GlobalAveragePooling2D, GlobalMaxPooling2D, TimeDistributed\n",
        "from keras.engine.topology import get_source_inputs\n",
        "from keras.utils import layer_utils\n",
        "from keras.utils.data_utils import get_file\n",
        "from __future__ import print_function\n",
        "from __future__ import absolute_import\n",
        "import warnings\n",
        "from keras import backend as K\n",
        "'''\n",
        "There are two ways to build models in keras: Sequential and functional. Sequential ===>sequential and functional====>Model\n",
        "'''\n"
      ],
      "execution_count": 38,
      "outputs": [
        {
          "output_type": "execute_result",
          "data": {
            "text/plain": [
              "'\\nThere are two ways to build models in keras: Sequential and functional. Sequential ===>sequential and functional====>Model\\n'"
            ]
          },
          "metadata": {
            "tags": []
          },
          "execution_count": 38
        }
      ]
    },
    {
      "metadata": {
        "id": "5XxzcVp7ELpG",
        "colab_type": "text"
      },
      "cell_type": "markdown",
      "source": [
        "# **Get VGG16 weights **"
      ]
    },
    {
      "metadata": {
        "id": "xX1LVFJxAXph",
        "colab_type": "code",
        "colab": {}
      },
      "cell_type": "code",
      "source": [
        "def path_to_get_weight(path):\n",
        "  '''\n",
        "  vgg16_weights_tf_dim_ordering_tf_kernels.h5\n",
        "  Json file to save the model description \n",
        "  HDF (.h5) to save the weights \n",
        "  '''\n",
        "  return path"
      ],
      "execution_count": 0,
      "outputs": []
    },
    {
      "metadata": {
        "id": "ZmHhVbB0ETMj",
        "colab_type": "text"
      },
      "cell_type": "markdown",
      "source": [
        "# **Build the CNN model **"
      ]
    },
    {
      "metadata": {
        "id": "YXLHmaqZESfO",
        "colab_type": "code",
        "colab": {}
      },
      "cell_type": "code",
      "source": [
        "def CNN(input_tensor=None,trainable=False):\n",
        "  # Handle input with random size, multiple inputs, inputs which are not tensors \n",
        "  input_shape = (None, None,3)\n",
        "\n",
        "\n",
        "  if input_tensor is None:\n",
        "        input_img = Input(shape=input_shape)\n",
        "  else:\n",
        "        if not K.is_keras_tensor(input_tensor):\n",
        "            input_img = Input(tensor=input_tensor, shape=input_shape)\n",
        "        else:\n",
        "            input_img = input_tensor\n",
        "\n",
        "  nbre_channel=3\n",
        "  ########################################################################\n",
        "  \n",
        "  #Block 1\n",
        "  x=Conv2D(64,(3,3),activation='relu',padding='same',name='bcnn1')(input_img)\n",
        "  x=Conv2D(64,(3,3),activation='relu',padding='same',name='bcnn2')(x)\n",
        "  x=MaxPool2D((2,2), strides=(2,2),name='pool1')(x)\n",
        "  \n",
        "  #Block 2\n",
        "  x=Conv2D(128,(3,3),activation='relu',padding='same',name='b2cnn1')(x)\n",
        "  x=Conv2D(128,(3,3),activation='relu',padding='same',name='b2cnn2')(x)\n",
        "  x=MaxPool2D((2,2), strides=(2,2),name='pool2')(x)\n",
        "  \n",
        "  \n",
        "  #Block 3\n",
        "  x=Conv2D(256,(3,3),activation='relu',padding='same',name='b3cnn1')(x)\n",
        "  x=Conv2D(256,(3,3),activation='relu',padding='same',name='b3cnn2')(x)\n",
        "  x=Conv2D(256,(3,3),activation='relu',padding='same',name='b3cnn3')(x)\n",
        "  x=MaxPool2D((2,2), strides=(2,2),name='pool3')(x)\n",
        "  \n",
        "  \n",
        "  #Block 4\n",
        "  x=Conv2D(512,(3,3),activation='relu',padding='same',name='b4cnn1')(x)\n",
        "  x=Conv2D(512,(3,3),activation='relu',padding='same',name='b4cnn2')(x)\n",
        "  x=Conv2D(512,(3,3),activation='relu',padding='same',name='b4cnn3')(x)\n",
        "  x=MaxPool2D((2,2), strides=(2,2),name='pool4')(x)\n",
        "  \n",
        "  #Block 5\n",
        "  x=Conv2D(512,(3,3),activation='relu',padding='same',name='b5cnn1')(x)\n",
        "  x=Conv2D(512,(3,3),activation='relu',padding='same',name='b5cnn2')(x)\n",
        "  x=Conv2D(512,(3,3),activation='relu',padding='same',name='b5cnn3')(x)\n",
        "  #x=MaxPool2D((2,2), strides=(2,2),name='pool4')(x)\n",
        "  \n",
        "  return x\n",
        "\n",
        "  "
      ],
      "execution_count": 0,
      "outputs": []
    },
    {
      "metadata": {
        "id": "rdQo8IxWLg25",
        "colab_type": "text"
      },
      "cell_type": "markdown",
      "source": [
        "# **RPN**"
      ]
    },
    {
      "metadata": {
        "id": "KzYbTQWdLedi",
        "colab_type": "code",
        "colab": {}
      },
      "cell_type": "code",
      "source": [
        "def RPN(cnn_layer,nbr_anchors):\n",
        "  \n",
        "  x=Conv2D(256,(3,3),padding='same',activation='relu',kernel_initializer='normal',name='RPN1')(cnn_layer)\n",
        "  xc=Conv2D(nbr_anchors,(1,1),activation='sigmoid',kernel_initializer='uniform',name='classification')(x)\n",
        "  xr=Conv2D(4*nbr_anchors,(1,1),activation='linear',kernel_initializer='zero',name='regression')(x)\n",
        "  \n",
        "  return [xc,xr,cnn_layer]\n",
        "\n",
        "\n",
        "  \n",
        "  "
      ],
      "execution_count": 0,
      "outputs": []
    },
    {
      "metadata": {
        "id": "Q1D7vEtXRdQO",
        "colab_type": "text"
      },
      "cell_type": "markdown",
      "source": [
        "# **Classifier **"
      ]
    },
    {
      "metadata": {
        "id": "PYFpFMM1RYOh",
        "colab_type": "code",
        "colab": {}
      },
      "cell_type": "code",
      "source": [
        " def classification(cnn_layer,input_rois, num_rois,nbre_class=3, trainable= False):\n",
        "    input_shape=(num_rois,(7,7),512)\n",
        "    \n",
        "    output_roi= ROI(7,num_rois)([cnn_layer,input_rois])\n",
        "    '''\n",
        "    Dense implements the operation: output = activation(dot(input, kernel) + bias)\n",
        "    TimeDistributed can be used with arbitrary layers, not just Dense, for instance with a Conv2D layer\n",
        "    '''\n",
        "    out = TimeDistributed(Flatten(name='flatten'))(output_roi)\n",
        "    out = TimeDistributed(Dense(4096, activation='relu', name= 'FC1'))(out)\n",
        "    out = TimeDistributed(Dense(4096, activation='relu', name= 'FC2'))(out)\n",
        "    \n",
        "    outc = TimeDistributed(Dense(nbre_class, activation='softmax',  kernel_initializer='zero', name= 'FCC'))(out)\n",
        "    outr=TimeDistributed(Dense(4*(nbre_class-1), activation='linear',  kernel_initializer='zero', name= 'FCL'))(out)\n",
        "    return [outc, outr]\n",
        "    \n",
        "    "
      ],
      "execution_count": 0,
      "outputs": []
    },
    {
      "metadata": {
        "id": "Unu3_7kNiGM1",
        "colab_type": "code",
        "colab": {}
      },
      "cell_type": "code",
      "source": [
        ""
      ],
      "execution_count": 0,
      "outputs": []
    }
  ]
}