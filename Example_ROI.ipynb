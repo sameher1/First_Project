{
 "cells": [
  {
   "cell_type": "markdown",
   "metadata": {},
   "source": [
    "# Import modules \n"
   ]
  },
  {
   "cell_type": "code",
   "execution_count": 1,
   "metadata": {},
   "outputs": [
    {
     "name": "stderr",
     "output_type": "stream",
     "text": [
      "C:\\Users\\mEtrOpOliS\\Anaconda3\\lib\\site-packages\\h5py\\__init__.py:36: FutureWarning: Conversion of the second argument of issubdtype from `float` to `np.floating` is deprecated. In future, it will be treated as `np.float64 == np.dtype(float).type`.\n",
      "  from ._conv import register_converters as _register_converters\n",
      "Using TensorFlow backend.\n"
     ]
    }
   ],
   "source": [
    "import ROI \n",
    "from ROI import *"
   ]
  },
  {
   "cell_type": "code",
   "execution_count": 2,
   "metadata": {},
   "outputs": [],
   "source": [
    "# 4x4 feature map with only 1 channel\n",
    "input_value =  [[\n",
    "    [[5,0,2], [2,0,4], [4,6,9], [4,8,7]],\n",
    "    [[7,6,3], [44,55,6], [51,78,8], [2,66,33]],\n",
    "    [[9,23,11], [12, 7,8], [1,88,55], [7,63,33]],\n",
    "    [[11,44,29], [13,4,8], [2,5,6], [58,78,9]]\n",
    "]]\n",
    "input_value = np.asarray(input_value, dtype='int32')\n",
    "# regions of interest as lists of:\n",
    "# feature map index, upper left, bottom right coordinates\n",
    "rois_value = [\n",
    "    [0, 0, 11, 33],\n",
    "    [ 3, 12, 15, 13],\n",
    "    [1, 10, 13, 12], \n",
    "    [11, 11, 13, 12]\n",
    "]\n",
    "rois_value = np.asarray(rois_value, dtype='int32')\n",
    "#input_featuremap = tf.placeholder(tf.float32)\n",
    "rois = tf.placeholder(tf.int32)\n",
    "input_const = tf.constant(input_value, tf.float32)\n",
    "rois_const = tf.constant(rois_value, tf.int32)\n",
    "x=ROI(4,4)\n",
    "y=x.channels(input_const)\n",
    "list_input=[ input_const, rois_const]\n",
    "final_output= x.compute(list_input)"
   ]
  },
  {
   "cell_type": "markdown",
   "metadata": {},
   "source": [
    "# Display the results"
   ]
  },
  {
   "cell_type": "code",
   "execution_count": 3,
   "metadata": {},
   "outputs": [
    {
     "name": "stdout",
     "output_type": "stream",
     "text": [
      "WARNING:tensorflow:From C:\\Users\\mEtrOpOliS\\Anaconda3\\lib\\site-packages\\tensorflow\\python\\util\\tf_should_use.py:118: initialize_all_variables (from tensorflow.python.ops.variables) is deprecated and will be removed after 2017-03-02.\n",
      "Instructions for updating:\n",
      "Use `tf.global_variables_initializer` instead.\n",
      "[[[[ 5.  0.  2.]\n",
      "   [ 2.  0.  4.]\n",
      "   [ 4.  6.  9.]\n",
      "   [ 4.  8.  7.]]\n",
      "\n",
      "  [[ 7.  6.  3.]\n",
      "   [44. 55.  6.]\n",
      "   [51. 78.  8.]\n",
      "   [ 2. 66. 33.]]\n",
      "\n",
      "  [[ 9. 23. 11.]\n",
      "   [12.  7.  8.]\n",
      "   [ 1. 88. 55.]\n",
      "   [ 7. 63. 33.]]\n",
      "\n",
      "  [[11. 44. 29.]\n",
      "   [13.  4.  8.]\n",
      "   [ 2.  5.  6.]\n",
      "   [58. 78.  9.]]]\n",
      "\n",
      "\n",
      " [[[ 5.  0.  2.]\n",
      "   [ 2.  0.  4.]\n",
      "   [ 4.  6.  9.]\n",
      "   [ 4.  8.  7.]]\n",
      "\n",
      "  [[ 7.  6.  3.]\n",
      "   [44. 55.  6.]\n",
      "   [51. 78.  8.]\n",
      "   [ 2. 66. 33.]]\n",
      "\n",
      "  [[ 9. 23. 11.]\n",
      "   [12.  7.  8.]\n",
      "   [ 1. 88. 55.]\n",
      "   [ 7. 63. 33.]]\n",
      "\n",
      "  [[11. 44. 29.]\n",
      "   [13.  4.  8.]\n",
      "   [ 2.  5.  6.]\n",
      "   [58. 78.  9.]]]\n",
      "\n",
      "\n",
      " [[[ 5.  0.  2.]\n",
      "   [ 2.  0.  4.]\n",
      "   [ 4.  6.  9.]\n",
      "   [ 4.  8.  7.]]\n",
      "\n",
      "  [[ 7.  6.  3.]\n",
      "   [44. 55.  6.]\n",
      "   [51. 78.  8.]\n",
      "   [ 2. 66. 33.]]\n",
      "\n",
      "  [[ 9. 23. 11.]\n",
      "   [12.  7.  8.]\n",
      "   [ 1. 88. 55.]\n",
      "   [ 7. 63. 33.]]\n",
      "\n",
      "  [[11. 44. 29.]\n",
      "   [13.  4.  8.]\n",
      "   [ 2.  5.  6.]\n",
      "   [58. 78.  9.]]]\n",
      "\n",
      "\n",
      " [[[ 5.  0.  2.]\n",
      "   [ 2.  0.  4.]\n",
      "   [ 4.  6.  9.]\n",
      "   [ 4.  8.  7.]]\n",
      "\n",
      "  [[ 7.  6.  3.]\n",
      "   [44. 55.  6.]\n",
      "   [51. 78.  8.]\n",
      "   [ 2. 66. 33.]]\n",
      "\n",
      "  [[ 9. 23. 11.]\n",
      "   [12.  7.  8.]\n",
      "   [ 1. 88. 55.]\n",
      "   [ 7. 63. 33.]]\n",
      "\n",
      "  [[11. 44. 29.]\n",
      "   [13.  4.  8.]\n",
      "   [ 2.  5.  6.]\n",
      "   [58. 78.  9.]]]]\n"
     ]
    },
    {
     "data": {
      "text/plain": [
       "TensorShape([Dimension(4), Dimension(4), Dimension(4), Dimension(3)])"
      ]
     },
     "execution_count": 3,
     "metadata": {},
     "output_type": "execute_result"
    }
   ],
   "source": [
    "#initialize the variable\n",
    "init_op = tf.initialize_all_variables()\n",
    "\n",
    "#run the graph\n",
    "with tf.Session() as sess:\n",
    "    sess.run(init_op) #execute init_op\n",
    "    #print the random values that we sample\n",
    "    print (sess.run(final_output))\n",
    "\n",
    "final_output.shape"
   ]
  },
  {
   "cell_type": "markdown",
   "metadata": {},
   "source": [
    "# Try to change the number of regions and you should a change in the shape of final_outputs \n",
    "\n",
    "\n",
    "# Try to change max values in the input you will see changes in the output "
   ]
  },
  {
   "cell_type": "code",
   "execution_count": 4,
   "metadata": {},
   "outputs": [
    {
     "name": "stdout",
     "output_type": "stream",
     "text": [
      "[[[[100.      ]\n",
      "   [280.      ]\n",
      "   [149.33331 ]]\n",
      "\n",
      "  [[ 30.66667 ]\n",
      "   [ 26.444447]\n",
      "   [ 28.88889 ]]\n",
      "\n",
      "  [[ 29.333328]\n",
      "   [195.33334 ]\n",
      "   [ 77.77777 ]]]\n",
      "\n",
      "\n",
      " [[[100.      ]\n",
      "   [280.      ]\n",
      "   [149.33331 ]]\n",
      "\n",
      "  [[ 30.66667 ]\n",
      "   [ 26.444447]\n",
      "   [ 28.88889 ]]\n",
      "\n",
      "  [[ 29.333328]\n",
      "   [195.33334 ]\n",
      "   [ 77.77777 ]]]\n",
      "\n",
      "\n",
      " [[[100.      ]\n",
      "   [280.      ]\n",
      "   [149.33331 ]]\n",
      "\n",
      "  [[ 30.66667 ]\n",
      "   [ 26.444447]\n",
      "   [ 28.88889 ]]\n",
      "\n",
      "  [[ 29.333328]\n",
      "   [195.33334 ]\n",
      "   [ 77.77777 ]]]]\n"
     ]
    },
    {
     "data": {
      "text/plain": [
       "TensorShape([Dimension(3), Dimension(3), Dimension(3), Dimension(1)])"
      ]
     },
     "execution_count": 4,
     "metadata": {},
     "output_type": "execute_result"
    }
   ],
   "source": [
    "input_value = [[\n",
    "    [[100], [200], [440], [4]],\n",
    "    [[3], [4], [12], [2]],\n",
    "    [[86], [55], [88], [70]],\n",
    "    [[1], [330], [120], [58]]\n",
    "]]\n",
    "\n",
    "input_value = np.asarray(input_value, dtype='int32')\n",
    "# regions of interest as lists of:\n",
    "# feature map index, upper left, bottom right coordinates\n",
    "rois_value = [\n",
    "    [0, 0, 11, 33],\n",
    "    [ 3, 12, 15, 13],\n",
    "    [1, 10, 13, 12]\n",
    "]\n",
    "rois_value = np.asarray(rois_value, dtype='int32')\n",
    "input_featuremap = tf.placeholder(tf.float32)\n",
    "rois = tf.placeholder(tf.int32)\n",
    "input_const = tf.constant(input_value, tf.float32)\n",
    "rois_const = tf.constant(rois_value, tf.int32)\n",
    "\n",
    "\n",
    "x=ROI(3,3)\n",
    "\n",
    "x.channels(input_featuremap)\n",
    "list_input=[ input_const, rois_const]\n",
    "final_output=x.compute(list_input)\n",
    "with tf.Session() as sess:\n",
    "    sess.run(init_op) #execute init_op\n",
    "    #print the random values that we sample\n",
    "    print (sess.run(final_output))\n",
    "\n",
    "final_output.shape"
   ]
  },
  {
   "cell_type": "code",
   "execution_count": null,
   "metadata": {},
   "outputs": [],
   "source": []
  },
  {
   "cell_type": "code",
   "execution_count": null,
   "metadata": {},
   "outputs": [],
   "source": []
  }
 ],
 "metadata": {
  "kernelspec": {
   "display_name": "Python 3",
   "language": "python",
   "name": "python3"
  },
  "language_info": {
   "codemirror_mode": {
    "name": "ipython",
    "version": 3
   },
   "file_extension": ".py",
   "mimetype": "text/x-python",
   "name": "python",
   "nbconvert_exporter": "python",
   "pygments_lexer": "ipython3",
   "version": "3.5.5"
  },
  "widgets": {
   "state": {},
   "version": "1.1.2"
  }
 },
 "nbformat": 4,
 "nbformat_minor": 2
}
