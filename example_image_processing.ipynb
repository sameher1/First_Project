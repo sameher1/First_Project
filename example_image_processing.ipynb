{
 "cells": [
  {
   "cell_type": "markdown",
   "metadata": {},
   "source": [
    "## Import Modules "
   ]
  },
  {
   "cell_type": "code",
   "execution_count": 8,
   "metadata": {},
   "outputs": [],
   "source": [
    "import image_processing as imp\n",
    "from imp import  *\n"
   ]
  },
  {
   "cell_type": "markdown",
   "metadata": {},
   "source": [
    "## Read the image + The size of the image "
   ]
  },
  {
   "cell_type": "code",
   "execution_count": 9,
   "metadata": {},
   "outputs": [
    {
     "data": {
      "text/plain": [
       "((1280, 720), 1280, 720)"
      ]
     },
     "execution_count": 9,
     "metadata": {},
     "output_type": "execute_result"
    }
   ],
   "source": [
    "i=imp.images('C:/Users/mEtrOpOliS/Desktop/image_data/1fps/img3/17.JPG')\n",
    "\n",
    "i.Size()"
   ]
  },
  {
   "cell_type": "markdown",
   "metadata": {},
   "source": [
    "## Inetrsection over Union "
   ]
  },
  {
   "cell_type": "code",
   "execution_count": 12,
   "metadata": {},
   "outputs": [
    {
     "data": {
      "text/plain": [
       "1.1335031465388072"
      ]
     },
     "execution_count": 12,
     "metadata": {},
     "output_type": "execute_result"
    }
   ],
   "source": [
    "i.IOU([640,390,109,50],[638,379,106,76])"
   ]
  },
  {
   "cell_type": "markdown",
   "metadata": {},
   "source": [
    "## Showing the intersection "
   ]
  },
  {
   "cell_type": "code",
   "execution_count": 13,
   "metadata": {},
   "outputs": [
    {
     "name": "stdout",
     "output_type": "stream",
     "text": [
      "[[[203 156 118]\n",
      "  [203 156 118]\n",
      "  [201 156 118]\n",
      "  ...\n",
      "  [252 253 251]\n",
      "  [252 253 251]\n",
      "  [252 253 251]]\n",
      "\n",
      " [[203 156 118]\n",
      "  [203 156 118]\n",
      "  [201 156 118]\n",
      "  ...\n",
      "  [252 253 251]\n",
      "  [252 253 251]\n",
      "  [252 253 251]]\n",
      "\n",
      " [[203 156 118]\n",
      "  [203 156 118]\n",
      "  [201 156 118]\n",
      "  ...\n",
      "  [252 253 251]\n",
      "  [252 253 251]\n",
      "  [252 253 251]]\n",
      "\n",
      " ...\n",
      "\n",
      " [[ 20  22  10]\n",
      "  [ 18  22  10]\n",
      "  [ 17  21   9]\n",
      "  ...\n",
      "  [  1   2   0]\n",
      "  [  1   2   0]\n",
      "  [  1   2   0]]\n",
      "\n",
      " [[ 19  21   9]\n",
      "  [ 17  21   9]\n",
      "  [ 17  21   9]\n",
      "  ...\n",
      "  [  1   2   0]\n",
      "  [  1   2   0]\n",
      "  [  1   2   0]]\n",
      "\n",
      " [[ 18  21   6]\n",
      "  [ 16  20   8]\n",
      "  [ 16  20   8]\n",
      "  ...\n",
      "  [  1   2   0]\n",
      "  [  1   2   0]\n",
      "  [  1   2   0]]]: 1.1335\n"
     ]
    }
   ],
   "source": [
    "i.display()"
   ]
  },
  {
   "cell_type": "code",
   "execution_count": null,
   "metadata": {},
   "outputs": [],
   "source": []
  }
 ],
 "metadata": {
  "kernelspec": {
   "display_name": "Python 3",
   "language": "python",
   "name": "python3"
  },
  "language_info": {
   "codemirror_mode": {
    "name": "ipython",
    "version": 3
   },
   "file_extension": ".py",
   "mimetype": "text/x-python",
   "name": "python",
   "nbconvert_exporter": "python",
   "pygments_lexer": "ipython3",
   "version": "3.5.5"
  },
  "widgets": {
   "state": {},
   "version": "1.1.2"
  }
 },
 "nbformat": 4,
 "nbformat_minor": 2
}
